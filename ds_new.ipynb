{
 "cells": [
  {
   "cell_type": "code",
   "execution_count": 2,
   "id": "b3eb9576",
   "metadata": {},
   "outputs": [
    {
     "name": "stdout",
     "output_type": "stream",
     "text": [
      "111903125_111903126_111903127.pdf\n",
      "Assgn1-Data-111903125_111903126_111903127.csv\n",
      "ds.ipynb\n",
      "ds_latest.ipynb\n",
      "ds_new.ipynb\n",
      "README.md\n",
      "\n"
     ]
    }
   ],
   "source": [
    "import pandas as pd\n",
    "import numpy as np\n",
    "import matplotlib\n",
    "import seaborn as sns\n",
    "import datetime as dt\n",
    "import seaborn as sns\n",
    "import scipy as sc\n",
    "import matplotlib.pyplot as plt\n",
    "import csv\n",
    "%matplotlib inline\n",
    "import itertools\n",
    "from subprocess import check_output\n",
    "from scipy import spatial\n",
    "print(check_output([\"ls\", \"../Data-Science-Project\"]).decode(\"utf8\"))"
   ]
  },
  {
   "cell_type": "code",
   "execution_count": 3,
   "id": "aa1b6d94",
   "metadata": {},
   "outputs": [
    {
     "data": {
      "text/html": [
       "<div>\n",
       "<style scoped>\n",
       "    .dataframe tbody tr th:only-of-type {\n",
       "        vertical-align: middle;\n",
       "    }\n",
       "\n",
       "    .dataframe tbody tr th {\n",
       "        vertical-align: top;\n",
       "    }\n",
       "\n",
       "    .dataframe thead th {\n",
       "        text-align: right;\n",
       "    }\n",
       "</style>\n",
       "<table border=\"1\" class=\"dataframe\">\n",
       "  <thead>\n",
       "    <tr style=\"text-align: right;\">\n",
       "      <th></th>\n",
       "      <th>lpep_pickup_datetime</th>\n",
       "      <th>lpep_dropoff_datetime</th>\n",
       "      <th>DOLoctionID</th>\n",
       "      <th>PULocationID</th>\n",
       "      <th>passenger_count</th>\n",
       "      <th>trip_distance</th>\n",
       "      <th>fare_amount</th>\n",
       "      <th>tip_amount</th>\n",
       "    </tr>\n",
       "  </thead>\n",
       "  <tbody>\n",
       "    <tr>\n",
       "      <th>0</th>\n",
       "      <td>2021-02-01 00:34:03</td>\n",
       "      <td>2021-02-01 00:51:58</td>\n",
       "      <td>205</td>\n",
       "      <td>130</td>\n",
       "      <td>5</td>\n",
       "      <td>3.66</td>\n",
       "      <td>14.0</td>\n",
       "      <td>10.00</td>\n",
       "    </tr>\n",
       "    <tr>\n",
       "      <th>1</th>\n",
       "      <td>2021-02-01 00:04:00</td>\n",
       "      <td>2021-02-01 00:10:30</td>\n",
       "      <td>244</td>\n",
       "      <td>152</td>\n",
       "      <td>1</td>\n",
       "      <td>1.10</td>\n",
       "      <td>6.5</td>\n",
       "      <td>0.00</td>\n",
       "    </tr>\n",
       "    <tr>\n",
       "      <th>2</th>\n",
       "      <td>2021-02-01 00:18:51</td>\n",
       "      <td>2021-02-01 00:34:06</td>\n",
       "      <td>48</td>\n",
       "      <td>152</td>\n",
       "      <td>1</td>\n",
       "      <td>4.93</td>\n",
       "      <td>16.5</td>\n",
       "      <td>0.00</td>\n",
       "    </tr>\n",
       "    <tr>\n",
       "      <th>3</th>\n",
       "      <td>2021-02-01 00:53:27</td>\n",
       "      <td>2021-02-01 01:11:41</td>\n",
       "      <td>241</td>\n",
       "      <td>152</td>\n",
       "      <td>1</td>\n",
       "      <td>6.70</td>\n",
       "      <td>21.0</td>\n",
       "      <td>0.00</td>\n",
       "    </tr>\n",
       "    <tr>\n",
       "      <th>4</th>\n",
       "      <td>2021-02-01 00:57:46</td>\n",
       "      <td>2021-02-01 01:06:44</td>\n",
       "      <td>42</td>\n",
       "      <td>75</td>\n",
       "      <td>1</td>\n",
       "      <td>1.89</td>\n",
       "      <td>8.5</td>\n",
       "      <td>2.45</td>\n",
       "    </tr>\n",
       "  </tbody>\n",
       "</table>\n",
       "</div>"
      ],
      "text/plain": [
       "  lpep_pickup_datetime lpep_dropoff_datetime  DOLoctionID  PULocationID  \\\n",
       "0  2021-02-01 00:34:03   2021-02-01 00:51:58          205           130   \n",
       "1  2021-02-01 00:04:00   2021-02-01 00:10:30          244           152   \n",
       "2  2021-02-01 00:18:51   2021-02-01 00:34:06           48           152   \n",
       "3  2021-02-01 00:53:27   2021-02-01 01:11:41          241           152   \n",
       "4  2021-02-01 00:57:46   2021-02-01 01:06:44           42            75   \n",
       "\n",
       "   passenger_count  trip_distance  fare_amount  tip_amount  \n",
       "0                5           3.66         14.0       10.00  \n",
       "1                1           1.10          6.5        0.00  \n",
       "2                1           4.93         16.5        0.00  \n",
       "3                1           6.70         21.0        0.00  \n",
       "4                1           1.89          8.5        2.45  "
      ]
     },
     "execution_count": 3,
     "metadata": {},
     "output_type": "execute_result"
    }
   ],
   "source": [
    "# data2 = pd.read_csv(\"data.csv\")\n",
    "# data2.head()\n",
    "df = pd.read_csv('Assgn1-Data-111903125_111903126_111903127.csv')\n",
    "df.columns = ['lpep_pickup_datetime', 'lpep_dropoff_datetime', 'DOLoctionID', 'PULocationID', 'passenger_count', 'trip_distance', 'fare_amount', 'tip_amount']\n",
    "df.head()\n"
   ]
  },
  {
   "cell_type": "code",
   "execution_count": 4,
   "id": "70217996",
   "metadata": {},
   "outputs": [
    {
     "data": {
      "text/html": [
       "<div>\n",
       "<style scoped>\n",
       "    .dataframe tbody tr th:only-of-type {\n",
       "        vertical-align: middle;\n",
       "    }\n",
       "\n",
       "    .dataframe tbody tr th {\n",
       "        vertical-align: top;\n",
       "    }\n",
       "\n",
       "    .dataframe thead th {\n",
       "        text-align: right;\n",
       "    }\n",
       "</style>\n",
       "<table border=\"1\" class=\"dataframe\">\n",
       "  <thead>\n",
       "    <tr style=\"text-align: right;\">\n",
       "      <th></th>\n",
       "      <th>DOLoctionID</th>\n",
       "      <th>PULocationID</th>\n",
       "      <th>passenger_count</th>\n",
       "      <th>trip_distance</th>\n",
       "      <th>fare_amount</th>\n",
       "      <th>tip_amount</th>\n",
       "    </tr>\n",
       "  </thead>\n",
       "  <tbody>\n",
       "    <tr>\n",
       "      <th>count</th>\n",
       "      <td>64572.000000</td>\n",
       "      <td>64572.000000</td>\n",
       "      <td>64572.000000</td>\n",
       "      <td>64572.000000</td>\n",
       "      <td>64572.000000</td>\n",
       "      <td>64572.000000</td>\n",
       "    </tr>\n",
       "    <tr>\n",
       "      <th>mean</th>\n",
       "      <td>130.662114</td>\n",
       "      <td>110.630691</td>\n",
       "      <td>1.186180</td>\n",
       "      <td>17.961370</td>\n",
       "      <td>19.754023</td>\n",
       "      <td>0.889773</td>\n",
       "    </tr>\n",
       "    <tr>\n",
       "      <th>std</th>\n",
       "      <td>77.270118</td>\n",
       "      <td>71.491400</td>\n",
       "      <td>0.724291</td>\n",
       "      <td>817.274665</td>\n",
       "      <td>14.305999</td>\n",
       "      <td>2.015467</td>\n",
       "    </tr>\n",
       "    <tr>\n",
       "      <th>min</th>\n",
       "      <td>1.000000</td>\n",
       "      <td>3.000000</td>\n",
       "      <td>0.000000</td>\n",
       "      <td>0.000000</td>\n",
       "      <td>-100.000000</td>\n",
       "      <td>-1.140000</td>\n",
       "    </tr>\n",
       "    <tr>\n",
       "      <th>25%</th>\n",
       "      <td>65.000000</td>\n",
       "      <td>58.000000</td>\n",
       "      <td>1.000000</td>\n",
       "      <td>1.310000</td>\n",
       "      <td>9.000000</td>\n",
       "      <td>0.000000</td>\n",
       "    </tr>\n",
       "    <tr>\n",
       "      <th>50%</th>\n",
       "      <td>128.000000</td>\n",
       "      <td>76.000000</td>\n",
       "      <td>1.000000</td>\n",
       "      <td>2.600000</td>\n",
       "      <td>16.730000</td>\n",
       "      <td>0.000000</td>\n",
       "    </tr>\n",
       "    <tr>\n",
       "      <th>75%</th>\n",
       "      <td>197.000000</td>\n",
       "      <td>166.000000</td>\n",
       "      <td>1.000000</td>\n",
       "      <td>5.700000</td>\n",
       "      <td>25.180000</td>\n",
       "      <td>1.060000</td>\n",
       "    </tr>\n",
       "    <tr>\n",
       "      <th>max</th>\n",
       "      <td>265.000000</td>\n",
       "      <td>265.000000</td>\n",
       "      <td>7.000000</td>\n",
       "      <td>102620.980000</td>\n",
       "      <td>205.000000</td>\n",
       "      <td>80.000000</td>\n",
       "    </tr>\n",
       "  </tbody>\n",
       "</table>\n",
       "</div>"
      ],
      "text/plain": [
       "        DOLoctionID  PULocationID  passenger_count  trip_distance  \\\n",
       "count  64572.000000  64572.000000     64572.000000   64572.000000   \n",
       "mean     130.662114    110.630691         1.186180      17.961370   \n",
       "std       77.270118     71.491400         0.724291     817.274665   \n",
       "min        1.000000      3.000000         0.000000       0.000000   \n",
       "25%       65.000000     58.000000         1.000000       1.310000   \n",
       "50%      128.000000     76.000000         1.000000       2.600000   \n",
       "75%      197.000000    166.000000         1.000000       5.700000   \n",
       "max      265.000000    265.000000         7.000000  102620.980000   \n",
       "\n",
       "        fare_amount    tip_amount  \n",
       "count  64572.000000  64572.000000  \n",
       "mean      19.754023      0.889773  \n",
       "std       14.305999      2.015467  \n",
       "min     -100.000000     -1.140000  \n",
       "25%        9.000000      0.000000  \n",
       "50%       16.730000      0.000000  \n",
       "75%       25.180000      1.060000  \n",
       "max      205.000000     80.000000  "
      ]
     },
     "execution_count": 4,
     "metadata": {},
     "output_type": "execute_result"
    }
   ],
   "source": [
    "# data2.describe()\n",
    "df.describe()"
   ]
  },
  {
   "cell_type": "code",
   "execution_count": 5,
   "id": "33496eab",
   "metadata": {},
   "outputs": [],
   "source": [
    "# sns.pairplot(df, hue=None)"
   ]
  },
  {
   "cell_type": "code",
   "execution_count": 6,
   "id": "a5818f04",
   "metadata": {},
   "outputs": [
    {
     "name": "stdout",
     "output_type": "stream",
     "text": [
      "0        2021-02-01 00:34:03\n",
      "1        2021-02-01 00:04:00\n",
      "2        2021-02-01 00:18:51\n",
      "3        2021-02-01 00:53:27\n",
      "4        2021-02-01 00:57:46\n",
      "                ...         \n",
      "64567    2021-02-26 08:46:00\n",
      "64568    2021-02-26 08:56:00\n",
      "64569    2021-02-26 08:46:00\n",
      "64570    2021-02-26 08:17:00\n",
      "64571    2021-02-26 08:12:00\n",
      "Name: lpep_pickup_datetime, Length: 64572, dtype: object 0        2021-02-01 00:51:58\n",
      "1        2021-02-01 00:10:30\n",
      "2        2021-02-01 00:34:06\n",
      "3        2021-02-01 01:11:41\n",
      "4        2021-02-01 01:06:44\n",
      "                ...         \n",
      "64567    2021-02-26 08:59:00\n",
      "64568    2021-02-26 09:10:00\n",
      "64569    2021-02-26 09:07:00\n",
      "64570    2021-02-26 08:51:00\n",
      "64571    2021-02-26 08:29:00\n",
      "Name: lpep_dropoff_datetime, Length: 64572, dtype: object\n",
      "      lpep_pickup_datetime lpep_dropoff_datetime  DOLoctionID  PULocationID  \\\n",
      "0      2021-02-01 00:34:03   2021-02-01 00:51:58          205           130   \n",
      "1      2021-02-01 00:04:00   2021-02-01 00:10:30          244           152   \n",
      "2      2021-02-01 00:18:51   2021-02-01 00:34:06           48           152   \n",
      "3      2021-02-01 00:53:27   2021-02-01 01:11:41          241           152   \n",
      "4      2021-02-01 00:57:46   2021-02-01 01:06:44           42            75   \n",
      "...                    ...                   ...          ...           ...   \n",
      "64567  2021-02-26 08:46:00   2021-02-26 08:59:00          247           167   \n",
      "64568  2021-02-26 08:56:00   2021-02-26 09:10:00          123            89   \n",
      "64569  2021-02-26 08:46:00   2021-02-26 09:07:00          166           127   \n",
      "64570  2021-02-26 08:17:00   2021-02-26 08:51:00          137            42   \n",
      "64571  2021-02-26 08:12:00   2021-02-26 08:29:00          236            74   \n",
      "\n",
      "       passenger_count  trip_distance  fare_amount  tip_amount  PUday  DOday  \n",
      "0                    5           3.66        14.00       10.00      1      1  \n",
      "1                    1           1.10         6.50        0.00      1      1  \n",
      "2                    1           4.93        16.50        0.00      1      1  \n",
      "3                    1           6.70        21.00        0.00      1      1  \n",
      "4                    1           1.89         8.50        2.45      1      1  \n",
      "...                ...            ...          ...         ...    ...    ...  \n",
      "64567                1           1.47        14.55        0.00     26     26  \n",
      "64568                1           2.87        20.22        0.00     26     26  \n",
      "64569                5           4.74        24.94        0.00     26     26  \n",
      "64570                1           7.63        41.81        0.00     26     26  \n",
      "64571                1           1.69        16.58        0.00     26     26  \n",
      "\n",
      "[64572 rows x 10 columns]\n"
     ]
    }
   ],
   "source": [
    "PUdatetimedf=df.loc[:,'lpep_pickup_datetime']\n",
    "DOdatetimedf=df.loc[:,'lpep_dropoff_datetime']\n",
    "print(PUdatetimedf,   DOdatetimedf)\n",
    "\n",
    "t1=pd.to_datetime(PUdatetimedf, format=\"%Y/%m/%d %H:%M:%S\")\n",
    "t2=pd.to_datetime(DOdatetimedf, format=\"%Y/%m/%d %H:%M:%S\")\n",
    "df['PUday']=t1.dt.day\n",
    "df['DOday']=t2.dt.day\n",
    "\n",
    "print(df)"
   ]
  },
  {
   "cell_type": "code",
   "execution_count": 7,
   "id": "5936771a",
   "metadata": {},
   "outputs": [
    {
     "data": {
      "image/png": "[encoded data removed]",
      "text/plain": [
       "<Figure size 432x288 with 1 Axes>"
      ]
     },
     "metadata": {
      "needs_background": "light"
     },
     "output_type": "display_data"
    }
   ],
   "source": [
    "#pickup per day\n",
    "df1=df.iloc[:,8]\n",
    "df1.plot.hist(alpha=0.75, bins=26)\n",
    "plt.show()"
   ]
  },
  {
   "cell_type": "code",
   "execution_count": 8,
   "id": "8759df93",
   "metadata": {},
   "outputs": [
    {
     "data": {
      "image/png": "[encoded data removed]",
      "text/plain": [
       "<Figure size 432x288 with 1 Axes>"
      ]
     },
     "metadata": {
      "needs_background": "light"
     },
     "output_type": "display_data"
    }
   ],
   "source": [
    "#drops per day\n",
    "df1=df.iloc[:,9]\n",
    "df1.plot.hist(alpha=0.75, bins=26)\n",
    "plt.show()"
   ]
  },
  {
   "cell_type": "code",
   "execution_count": 9,
   "id": "1ff868a1",
   "metadata": {},
   "outputs": [
    {
     "name": "stdout",
     "output_type": "stream",
     "text": [
      "      lpep_pickup_datetime lpep_dropoff_datetime  DOLoctionID  PULocationID  \\\n",
      "0      2021-02-01 00:34:03   2021-02-01 00:51:58          205           130   \n",
      "1      2021-02-01 00:04:00   2021-02-01 00:10:30          244           152   \n",
      "2      2021-02-01 00:18:51   2021-02-01 00:34:06           48           152   \n",
      "3      2021-02-01 00:53:27   2021-02-01 01:11:41          241           152   \n",
      "4      2021-02-01 00:57:46   2021-02-01 01:06:44           42            75   \n",
      "...                    ...                   ...          ...           ...   \n",
      "64567  2021-02-26 08:46:00   2021-02-26 08:59:00          247           167   \n",
      "64568  2021-02-26 08:56:00   2021-02-26 09:10:00          123            89   \n",
      "64569  2021-02-26 08:46:00   2021-02-26 09:07:00          166           127   \n",
      "64570  2021-02-26 08:17:00   2021-02-26 08:51:00          137            42   \n",
      "64571  2021-02-26 08:12:00   2021-02-26 08:29:00          236            74   \n",
      "\n",
      "       passenger_count  trip_distance  fare_amount  tip_amount  PUday  DOday  \\\n",
      "0                    5           3.66        14.00       10.00      1      1   \n",
      "1                    1           1.10         6.50        0.00      1      1   \n",
      "2                    1           4.93        16.50        0.00      1      1   \n",
      "3                    1           6.70        21.00        0.00      1      1   \n",
      "4                    1           1.89         8.50        2.45      1      1   \n",
      "...                ...            ...          ...         ...    ...    ...   \n",
      "64567                1           1.47        14.55        0.00     26     26   \n",
      "64568                1           2.87        20.22        0.00     26     26   \n",
      "64569                5           4.74        24.94        0.00     26     26   \n",
      "64570                1           7.63        41.81        0.00     26     26   \n",
      "64571                1           1.69        16.58        0.00     26     26   \n",
      "\n",
      "       hour  \n",
      "0         0  \n",
      "1         0  \n",
      "2         0  \n",
      "3         0  \n",
      "4         0  \n",
      "...     ...  \n",
      "64567     8  \n",
      "64568     8  \n",
      "64569     8  \n",
      "64570     8  \n",
      "64571     8  \n",
      "\n",
      "[64572 rows x 11 columns]\n"
     ]
    },
    {
     "data": {
      "image/png": "[encoded data removed]",
      "text/plain": [
       "<Figure size 432x288 with 1 Axes>"
      ]
     },
     "metadata": {
      "needs_background": "light"
     },
     "output_type": "display_data"
    }
   ],
   "source": [
    "#hourwise trips\n",
    "df['hour']=t1.dt.hour\n",
    "print(df)\n",
    "df2=df.iloc[:,10]\n",
    "df2.plot.hist(alpha=0.75, bins=23)\n",
    "plt.show()"
   ]
  },
  {
   "cell_type": "code",
   "execution_count": 10,
   "id": "5160cc24",
   "metadata": {},
   "outputs": [
    {
     "name": "stdout",
     "output_type": "stream",
     "text": [
      "      lpep_pickup_datetime lpep_dropoff_datetime  DOLoctionID  PULocationID  \\\n",
      "0      2021-02-01 00:34:03   2021-02-01 00:51:58          205           130   \n",
      "1      2021-02-01 00:04:00   2021-02-01 00:10:30          244           152   \n",
      "2      2021-02-01 00:18:51   2021-02-01 00:34:06           48           152   \n",
      "3      2021-02-01 00:53:27   2021-02-01 01:11:41          241           152   \n",
      "4      2021-02-01 00:57:46   2021-02-01 01:06:44           42            75   \n",
      "...                    ...                   ...          ...           ...   \n",
      "64567  2021-02-26 08:46:00   2021-02-26 08:59:00          247           167   \n",
      "64568  2021-02-26 08:56:00   2021-02-26 09:10:00          123            89   \n",
      "64569  2021-02-26 08:46:00   2021-02-26 09:07:00          166           127   \n",
      "64570  2021-02-26 08:17:00   2021-02-26 08:51:00          137            42   \n",
      "64571  2021-02-26 08:12:00   2021-02-26 08:29:00          236            74   \n",
      "\n",
      "       passenger_count  trip_distance  fare_amount  tip_amount  PUday  DOday  \\\n",
      "0                    5           3.66        14.00       10.00      1      1   \n",
      "1                    1           1.10         6.50        0.00      1      1   \n",
      "2                    1           4.93        16.50        0.00      1      1   \n",
      "3                    1           6.70        21.00        0.00      1      1   \n",
      "4                    1           1.89         8.50        2.45      1      1   \n",
      "...                ...            ...          ...         ...    ...    ...   \n",
      "64567                1           1.47        14.55        0.00     26     26   \n",
      "64568                1           2.87        20.22        0.00     26     26   \n",
      "64569                5           4.74        24.94        0.00     26     26   \n",
      "64570                1           7.63        41.81        0.00     26     26   \n",
      "64571                1           1.69        16.58        0.00     26     26   \n",
      "\n",
      "       hour  DayOfWeekNum DayOfWeek  \n",
      "0         0             0    Monday  \n",
      "1         0             0    Monday  \n",
      "2         0             0    Monday  \n",
      "3         0             0    Monday  \n",
      "4         0             0    Monday  \n",
      "...     ...           ...       ...  \n",
      "64567     8             4    Friday  \n",
      "64568     8             4    Friday  \n",
      "64569     8             4    Friday  \n",
      "64570     8             4    Friday  \n",
      "64571     8             4    Friday  \n",
      "\n",
      "[64572 rows x 13 columns]\n"
     ]
    },
    {
     "data": {
      "image/png": "[encoded data removed]",
      "text/plain": [
       "<Figure size 432x288 with 1 Axes>"
      ]
     },
     "metadata": {
      "needs_background": "light"
     },
     "output_type": "display_data"
    }
   ],
   "source": [
    "df['DayOfWeekNum']=t1.dt.dayofweek\n",
    "df['DayOfWeek']=t1.dt.day_name()\n",
    "print(df)\n",
    "df2=df.iloc[:,11]\n",
    "df2.plot.hist(alpha=0.75, bins=7)\n",
    "plt.show()"
   ]
  },
  {
   "cell_type": "code",
   "execution_count": 11,
   "id": "9adedef5",
   "metadata": {},
   "outputs": [
    {
     "data": {
      "text/plain": [
       "(array([ 4010.,  9774., 11040.,  4525.,  4141.,  6291.,  5952.,  4062.,\n",
       "         7751.,  7026.]),\n",
       " array([  1. ,  27.4,  53.8,  80.2, 106.6, 133. , 159.4, 185.8, 212.2,\n",
       "        238.6, 265. ]),\n",
       " <BarContainer object of 10 artists>)"
      ]
     },
     "execution_count": 11,
     "metadata": {},
     "output_type": "execute_result"
    },
    {
     "data": {
      "image/png": "[encoded data removed]",
      "text/plain": [
       "<Figure size 432x288 with 1 Axes>"
      ]
     },
     "metadata": {
      "needs_background": "light"
     },
     "output_type": "display_data"
    }
   ],
   "source": [
    "plt.hist(df['DOLoctionID'])"
   ]
  },
  {
   "cell_type": "code",
   "execution_count": 12,
   "id": "97fc64a2",
   "metadata": {},
   "outputs": [
    {
     "data": {
      "text/plain": [
       "(array([ 4539., 11408., 17442.,  6086.,  4105.,  2983.,  5045.,  3332.,\n",
       "         3704.,  5928.]),\n",
       " array([  3. ,  29.2,  55.4,  81.6, 107.8, 134. , 160.2, 186.4, 212.6,\n",
       "        238.8, 265. ]),\n",
       " <BarContainer object of 10 artists>)"
      ]
     },
     "execution_count": 12,
     "metadata": {},
     "output_type": "execute_result"
    },
    {
     "data": {
      "image/png": "[encoded data removed]",
      "text/plain": [
       "<Figure size 432x288 with 1 Axes>"
      ]
     },
     "metadata": {
      "needs_background": "light"
     },
     "output_type": "display_data"
    }
   ],
   "source": [
    "plt.hist(df['PULocationID'])"
   ]
  },
  {
   "cell_type": "code",
   "execution_count": 13,
   "id": "9a0494b4",
   "metadata": {},
   "outputs": [
    {
     "data": {
      "text/plain": [
       "(array([1.0000e+00, 8.0000e+00, 1.1000e+01, 4.3271e+04, 1.8903e+04,\n",
       "        2.1360e+03, 2.2700e+02, 5.0000e+00, 4.0000e+00, 6.0000e+00]),\n",
       " array([-100. ,  -69.5,  -39. ,   -8.5,   22. ,   52.5,   83. ,  113.5,\n",
       "         144. ,  174.5,  205. ]),\n",
       " <BarContainer object of 10 artists>)"
      ]
     },
     "execution_count": 13,
     "metadata": {},
     "output_type": "execute_result"
    },
    {
     "data": {
      "image/png": "[encoded data removed]",
      "text/plain": [
       "<Figure size 432x288 with 1 Axes>"
      ]
     },
     "metadata": {
      "needs_background": "light"
     },
     "output_type": "display_data"
    }
   ],
   "source": [
    "plt.hist(df['fare_amount'])"
   ]
  },
  {
   "cell_type": "code",
   "execution_count": 14,
   "id": "36f80609",
   "metadata": {},
   "outputs": [
    {
     "name": "stdout",
     "output_type": "stream",
     "text": [
      "Low fare amount  29.107043300501765\n",
      "Medium fare amount  53.71987858514527\n",
      "High fare amount  17.173078114352972\n"
     ]
    }
   ],
   "source": [
    "array = df['fare_amount']\n",
    "count1 = 0\n",
    "count2 = 0\n",
    "count3 = 0\n",
    "# print(len(a))\n",
    "for i in range (0,len(array)):\n",
    "#     print(a[i])\n",
    "    if(array[i] >= 0 and array[i] <= 10):\n",
    "        count1 = count1 + 1\n",
    "    elif(array[i] > 10 and array[i] <= 30):\n",
    "        count2 = count2 + 1\n",
    "    else:\n",
    "        count3 = count3 + 1\n",
    "\n",
    "lowper = (count1*100)/len(array)\n",
    "medper = (count2*100)/len(array)\n",
    "highper = (count3*100)/len(array)\n",
    "print(\"Low fare amount \",lowper)\n",
    "print(\"Medium fare amount \",medper)\n",
    "print(\"High fare amount \",highper)"
   ]
  },
  {
   "cell_type": "code",
   "execution_count": 15,
   "id": "8de06cb7",
   "metadata": {},
   "outputs": [
    {
     "data": {
      "image/png": "[encoded data removed]",
      "text/plain": [
       "<Figure size 720x720 with 1 Axes>"
      ]
     },
     "metadata": {},
     "output_type": "display_data"
    }
   ],
   "source": [
    "category = ['Low', 'Medium', 'High']\n",
    "data = [lowper, medper, highper]\n",
    "fig = plt.figure(figsize = (10,10))\n",
    "plt.pie(data, labels = category)\n",
    "plt.show()"
   ]
  },
  {
   "cell_type": "code",
   "execution_count": 16,
   "id": "6254b402",
   "metadata": {},
   "outputs": [
    {
     "name": "stdout",
     "output_type": "stream",
     "text": [
      "Low fare amount  88.13262714489252\n",
      "Medium fare amount  11.549897788515146\n",
      "High fare amount  0.31747506659233105\n"
     ]
    }
   ],
   "source": [
    "array2 = df['trip_distance']\n",
    "count4 = 0\n",
    "count5 = 0\n",
    "count6 = 0\n",
    "# print(len(a))\n",
    "for i in range (0,len(array2)):\n",
    "#     print(a[i])\n",
    "    if(array2[i] >= 0 and array2[i] <= 10):\n",
    "        count4 = count4 + 1\n",
    "    elif(array2[i] > 10 and array2[i] <= 30):\n",
    "        count5 = count5 + 1\n",
    "    else:\n",
    "        count6 = count6 + 1\n",
    "\n",
    "\n",
    "lowper = (count4*100)/len(array2)\n",
    "medper = (count5*100)/len(array2)\n",
    "highper = (count6*100)/len(array2)\n",
    "print(\"Low fare amount \",lowper)\n",
    "print(\"Medium fare amount \",medper)\n",
    "print(\"High fare amount \",highper)      \n",
    "    \n",
    "    "
   ]
  },
  {
   "cell_type": "code",
   "execution_count": 17,
   "id": "101311dc",
   "metadata": {},
   "outputs": [
    {
     "data": {
      "image/png": "[encoded data removed]",
      "text/plain": [
       "<Figure size 720x720 with 1 Axes>"
      ]
     },
     "metadata": {},
     "output_type": "display_data"
    }
   ],
   "source": [
    "category = ['Low', 'Medium', 'High']\n",
    "data = [lowper, medper, highper]\n",
    "fig = plt.figure(figsize = (10,10))\n",
    "plt.pie(data, labels = category)\n",
    "plt.show()"
   ]
  },
  {
   "cell_type": "code",
   "execution_count": 18,
   "id": "e1834654",
   "metadata": {},
   "outputs": [
    {
     "data": {
      "text/plain": [
       "<AxesSubplot:xlabel='fare_amount'>"
      ]
     },
     "execution_count": 18,
     "metadata": {},
     "output_type": "execute_result"
    },
    {
     "data": {
      "image/png": "[encoded data removed]",
      "text/plain": [
       "<Figure size 432x288 with 1 Axes>"
      ]
     },
     "metadata": {
      "needs_background": "light"
     },
     "output_type": "display_data"
    }
   ],
   "source": [
    "sns.boxplot(x=df['fare_amount'])"
   ]
  },
  {
   "cell_type": "code",
   "execution_count": 19,
   "id": "1a39f71e",
   "metadata": {},
   "outputs": [
    {
     "data": {
      "text/plain": [
       "<AxesSubplot:xlabel='tip_amount'>"
      ]
     },
     "execution_count": 19,
     "metadata": {},
     "output_type": "execute_result"
    },
    {
     "data": {
      "image/png": "[encoded data removed]",
      "text/plain": [
       "<Figure size 432x288 with 1 Axes>"
      ]
     },
     "metadata": {
      "needs_background": "light"
     },
     "output_type": "display_data"
    }
   ],
   "source": [
    "sns.boxplot(x=df['tip_amount'])"
   ]
  },
  {
   "cell_type": "code",
   "execution_count": 20,
   "id": "baa9c6ac",
   "metadata": {},
   "outputs": [
    {
     "data": {
      "text/plain": [
       "<AxesSubplot:xlabel='trip_distance'>"
      ]
     },
     "execution_count": 20,
     "metadata": {},
     "output_type": "execute_result"
    },
    {
     "data": {
      "image/png": "[encoded data removed]",
      "text/plain": [
       "<Figure size 432x288 with 1 Axes>"
      ]
     },
     "metadata": {
      "needs_background": "light"
     },
     "output_type": "display_data"
    }
   ],
   "source": [
    "sns.boxplot(x=df['trip_distance'])"
   ]
  },
  {
   "cell_type": "code",
   "execution_count": 21,
   "id": "a42f9de9",
   "metadata": {},
   "outputs": [
    {
     "data": {
      "image/png": "[encoded data removed]",
      "text/plain": [
       "<Figure size 864x216 with 2 Axes>"
      ]
     },
     "metadata": {
      "needs_background": "light"
     },
     "output_type": "display_data"
    }
   ],
   "source": [
    "# grouping the data on the basis of days and hours\n",
    "grouped_day_hour = df.groupby(['PUday','hour'])['hour'].count().unstack()\n",
    "plt.figure(figsize=(12,3))\n",
    "sns.heatmap(grouped_day_hour.iloc[[1,5,6,4,0,2,3]],\n",
    "            cmap='rocket_r',\n",
    "            linewidths=0.5,\n",
    "            linecolor='white')\n",
    "\n",
    "# rotating y axis ticks\n",
    "plt.yticks(rotation=0)\n",
    "\n",
    "# removing x and y label\n",
    "plt.xlabel(None)\n",
    "plt.ylabel(None)\n",
    "plt.title('Rides : Weekdays vs Hours');"
   ]
  },
  {
   "cell_type": "code",
   "execution_count": 22,
   "id": "b6ae6a94",
   "metadata": {},
   "outputs": [
    {
     "data": {
      "text/plain": [
       "Text(0, 0.5, 'fare_amount')"
      ]
     },
     "execution_count": 22,
     "metadata": {},
     "output_type": "execute_result"
    },
    {
     "data": {
      "image/png": "[encoded data removed]",
      "text/plain": [
       "<Figure size 432x288 with 1 Axes>"
      ]
     },
     "metadata": {
      "needs_background": "light"
     },
     "output_type": "display_data"
    }
   ],
   "source": [
    "x = df['trip_distance']\n",
    "y = df['fare_amount']\n",
    "plt.scatter(x,y)\n",
    "plt.xlabel('trip_distance')\n",
    "plt.ylabel('fare_amount')\n",
    "# plt.title('Graph in 2D')\n",
    "# plt.savefig('Test.png')"
   ]
  },
  {
   "cell_type": "code",
   "execution_count": 23,
   "id": "4e258c61",
   "metadata": {},
   "outputs": [
    {
     "data": {
      "text/plain": [
       "[<matplotlib.lines.Line2D at 0x7f66b5f45820>]"
      ]
     },
     "metadata": {},
     "output_type": "display_data"
    },
    {
     "data": {
      "text/plain": [
       "[<matplotlib.lines.Line2D at 0x7f66b5f0f130>]"
      ]
     },
     "metadata": {},
     "output_type": "display_data"
    },
    {
     "data": {
      "image/png": "[encoded data removed]",
      "text/plain": [
       "<Figure size 432x288 with 1 Axes>"
      ]
     },
     "metadata": {
      "needs_background": "light"
     },
     "output_type": "display_data"
    },
    {
     "data": {
      "image/png": "[encoded data removed]",
      "text/plain": [
       "<Figure size 144x144 with 1 Axes>"
      ]
     },
     "metadata": {
      "needs_background": "light"
     },
     "output_type": "display_data"
    }
   ],
   "source": [
    "x = df['fare_amount']\n",
    "y = df['trip_distance']\n",
    "display(plt.plot(x, y))\n",
    "  \n",
    "# changing the size of figure to 2X2\n",
    "plt.figure(figsize=(2, 2))\n",
    "display(plt.plot(x, y))"
   ]
  },
  {
   "cell_type": "code",
   "execution_count": 24,
   "id": "078b50d4",
   "metadata": {},
   "outputs": [
    {
     "data": {
      "image/png": "[encoded data removed]",
      "text/plain": [
       "<Figure size 1080x720 with 1 Axes>"
      ]
     },
     "metadata": {
      "needs_background": "light"
     },
     "output_type": "display_data"
    }
   ],
   "source": [
    "trips_week = df.groupby('DayOfWeek')['PUday'].count().sort_values(ascending=True)\n",
    "\n",
    "plt.figure(figsize=(15, 10))\n",
    "trips_week.plot(kind='line', color='b', alpha=0.8)\n",
    "plt.ylabel('Total Trips')\n",
    "plt.title('Trips by Weekdays');\n",
    "plt.show()"
   ]
  },
  {
   "cell_type": "code",
   "execution_count": 25,
   "id": "d00a2227",
   "metadata": {},
   "outputs": [
    {
     "data": {
      "text/html": [
       "<div>\n",
       "<style scoped>\n",
       "    .dataframe tbody tr th:only-of-type {\n",
       "        vertical-align: middle;\n",
       "    }\n",
       "\n",
       "    .dataframe tbody tr th {\n",
       "        vertical-align: top;\n",
       "    }\n",
       "\n",
       "    .dataframe thead th {\n",
       "        text-align: right;\n",
       "    }\n",
       "</style>\n",
       "<table border=\"1\" class=\"dataframe\">\n",
       "  <thead>\n",
       "    <tr style=\"text-align: right;\">\n",
       "      <th></th>\n",
       "      <th>lpep_pickup_datetime</th>\n",
       "      <th>lpep_dropoff_datetime</th>\n",
       "      <th>DOLoctionID</th>\n",
       "      <th>PULocationID</th>\n",
       "      <th>passenger_count</th>\n",
       "      <th>trip_distance</th>\n",
       "      <th>fare_amount</th>\n",
       "      <th>tip_amount</th>\n",
       "      <th>PUday</th>\n",
       "      <th>DOday</th>\n",
       "      <th>hour</th>\n",
       "      <th>DayOfWeekNum</th>\n",
       "      <th>DayOfWeek</th>\n",
       "    </tr>\n",
       "  </thead>\n",
       "  <tbody>\n",
       "    <tr>\n",
       "      <th>0</th>\n",
       "      <td>2021-02-01 00:34:03</td>\n",
       "      <td>2021-02-01 00:51:58</td>\n",
       "      <td>0.773585</td>\n",
       "      <td>0.490566</td>\n",
       "      <td>0.714286</td>\n",
       "      <td>0.000036</td>\n",
       "      <td>0.068293</td>\n",
       "      <td>0.125000</td>\n",
       "      <td>1</td>\n",
       "      <td>1</td>\n",
       "      <td>0</td>\n",
       "      <td>0</td>\n",
       "      <td>Monday</td>\n",
       "    </tr>\n",
       "    <tr>\n",
       "      <th>1</th>\n",
       "      <td>2021-02-01 00:04:00</td>\n",
       "      <td>2021-02-01 00:10:30</td>\n",
       "      <td>0.920755</td>\n",
       "      <td>0.573585</td>\n",
       "      <td>0.142857</td>\n",
       "      <td>0.000011</td>\n",
       "      <td>0.031707</td>\n",
       "      <td>0.000000</td>\n",
       "      <td>1</td>\n",
       "      <td>1</td>\n",
       "      <td>0</td>\n",
       "      <td>0</td>\n",
       "      <td>Monday</td>\n",
       "    </tr>\n",
       "    <tr>\n",
       "      <th>2</th>\n",
       "      <td>2021-02-01 00:18:51</td>\n",
       "      <td>2021-02-01 00:34:06</td>\n",
       "      <td>0.181132</td>\n",
       "      <td>0.573585</td>\n",
       "      <td>0.142857</td>\n",
       "      <td>0.000048</td>\n",
       "      <td>0.080488</td>\n",
       "      <td>0.000000</td>\n",
       "      <td>1</td>\n",
       "      <td>1</td>\n",
       "      <td>0</td>\n",
       "      <td>0</td>\n",
       "      <td>Monday</td>\n",
       "    </tr>\n",
       "    <tr>\n",
       "      <th>3</th>\n",
       "      <td>2021-02-01 00:53:27</td>\n",
       "      <td>2021-02-01 01:11:41</td>\n",
       "      <td>0.909434</td>\n",
       "      <td>0.573585</td>\n",
       "      <td>0.142857</td>\n",
       "      <td>0.000065</td>\n",
       "      <td>0.102439</td>\n",
       "      <td>0.000000</td>\n",
       "      <td>1</td>\n",
       "      <td>1</td>\n",
       "      <td>0</td>\n",
       "      <td>0</td>\n",
       "      <td>Monday</td>\n",
       "    </tr>\n",
       "    <tr>\n",
       "      <th>4</th>\n",
       "      <td>2021-02-01 00:57:46</td>\n",
       "      <td>2021-02-01 01:06:44</td>\n",
       "      <td>0.158491</td>\n",
       "      <td>0.283019</td>\n",
       "      <td>0.142857</td>\n",
       "      <td>0.000018</td>\n",
       "      <td>0.041463</td>\n",
       "      <td>0.030625</td>\n",
       "      <td>1</td>\n",
       "      <td>1</td>\n",
       "      <td>0</td>\n",
       "      <td>0</td>\n",
       "      <td>Monday</td>\n",
       "    </tr>\n",
       "  </tbody>\n",
       "</table>\n",
       "</div>"
      ],
      "text/plain": [
       "  lpep_pickup_datetime lpep_dropoff_datetime  DOLoctionID  PULocationID  \\\n",
       "0  2021-02-01 00:34:03   2021-02-01 00:51:58     0.773585      0.490566   \n",
       "1  2021-02-01 00:04:00   2021-02-01 00:10:30     0.920755      0.573585   \n",
       "2  2021-02-01 00:18:51   2021-02-01 00:34:06     0.181132      0.573585   \n",
       "3  2021-02-01 00:53:27   2021-02-01 01:11:41     0.909434      0.573585   \n",
       "4  2021-02-01 00:57:46   2021-02-01 01:06:44     0.158491      0.283019   \n",
       "\n",
       "   passenger_count  trip_distance  fare_amount  tip_amount  PUday  DOday  \\\n",
       "0         0.714286       0.000036     0.068293    0.125000      1      1   \n",
       "1         0.142857       0.000011     0.031707    0.000000      1      1   \n",
       "2         0.142857       0.000048     0.080488    0.000000      1      1   \n",
       "3         0.142857       0.000065     0.102439    0.000000      1      1   \n",
       "4         0.142857       0.000018     0.041463    0.030625      1      1   \n",
       "\n",
       "   hour  DayOfWeekNum DayOfWeek  \n",
       "0     0             0    Monday  \n",
       "1     0             0    Monday  \n",
       "2     0             0    Monday  \n",
       "3     0             0    Monday  \n",
       "4     0             0    Monday  "
      ]
     },
     "execution_count": 25,
     "metadata": {},
     "output_type": "execute_result"
    }
   ],
   "source": [
    "dfn = pd.read_csv(r\"Assgn1-Data-111903125_111903126_111903127.csv\" , encoding= 'unicode_escape')\n",
    "columns = ['DOLoctionID', 'PULocationID', 'passenger_count', 'trip_distance', 'fare_amount', 'tip_amount']\n",
    "for column in columns:\n",
    "    df[column] = df[column]/df[column].abs().max()\n",
    "df.head()"
   ]
  },
  {
   "cell_type": "code",
   "execution_count": 26,
   "id": "de6ebafa",
   "metadata": {},
   "outputs": [
    {
     "data": {
      "image/png": "[encoded data removed]",
      "text/plain": [
       "<Figure size 432x288 with 1 Axes>"
      ]
     },
     "metadata": {
      "needs_background": "light"
     },
     "output_type": "display_data"
    },
    {
     "data": {
      "image/png": "[encoded data removed]",
      "text/plain": [
       "<Figure size 432x288 with 1 Axes>"
      ]
     },
     "metadata": {
      "needs_background": "light"
     },
     "output_type": "display_data"
    },
    {
     "data": {
      "image/png": "[encoded data removed]",
      "text/plain": [
       "<Figure size 432x288 with 1 Axes>"
      ]
     },
     "metadata": {
      "needs_background": "light"
     },
     "output_type": "display_data"
    }
   ],
   "source": [
    "df[\"lpep_pickup_datetime\"] = dfn[\"lpep_pickup_datetime\"]\n",
    "sns.histplot(x = 'DOLoctionID' , data=df, )\n",
    "plt.ylim([0, 1400])\n",
    "plt.show()\n",
    "\n",
    "sns.histplot(x = 'PULocationID' , data=df, )\n",
    "plt.show()\n",
    "\n",
    "sns.histplot(x = 'passenger_count' , data=df, )\n",
    "plt.show()"
   ]
  },
  {
   "cell_type": "code",
   "execution_count": 44,
   "id": "9edc2ba5",
   "metadata": {
    "scrolled": true
   },
   "outputs": [
    {
     "name": "stdout",
     "output_type": "stream",
     "text": [
      "0        2021-02-01 00:34:03\n",
      "1        2021-02-01 00:04:00\n",
      "2        2021-02-01 00:18:51\n",
      "3        2021-02-01 00:53:27\n",
      "4        2021-02-01 00:57:46\n",
      "                ...         \n",
      "64567    2021-02-26 08:46:00\n",
      "64568    2021-02-26 08:56:00\n",
      "64569    2021-02-26 08:46:00\n",
      "64570    2021-02-26 08:17:00\n",
      "64571    2021-02-26 08:12:00\n",
      "Name: lpep_pickup_datetime, Length: 64572, dtype: object 0        2021-02-01 00:51:58\n",
      "1        2021-02-01 00:10:30\n",
      "2        2021-02-01 00:34:06\n",
      "3        2021-02-01 01:11:41\n",
      "4        2021-02-01 01:06:44\n",
      "                ...         \n",
      "64567    2021-02-26 08:59:00\n",
      "64568    2021-02-26 09:10:00\n",
      "64569    2021-02-26 09:07:00\n",
      "64570    2021-02-26 08:51:00\n",
      "64571    2021-02-26 08:29:00\n",
      "Name: lpep_dropoff_datetime, Length: 64572, dtype: object\n",
      "0.2407499545137627\n",
      "0.9736741325821368\n",
      "0.7005192979207264\n"
     ]
    }
   ],
   "source": [
    "PUdatetimedf=df.loc[:,'lpep_pickup_datetime']\n",
    "DOdatetimedf=df.loc[:,'lpep_dropoff_datetime']\n",
    "print(PUdatetimedf,   DOdatetimedf)\n",
    "\n",
    "t1=pd.to_datetime(PUdatetimedf, format=\"%Y/%m/%d %H:%M:%S\")\n",
    "t2=pd.to_datetime(DOdatetimedf, format=\"%Y/%m/%d %H:%M:%S\")\n",
    "\n",
    "date = PUdatetimedf.str.split(\" \")\n",
    "\n",
    "x=[]\n",
    "for i in range (len(date)):\n",
    "    x.append(date[i][0])\n",
    "\n",
    "y = df['DOLoctionID']\n",
    "\n",
    "z = df['PULocationID']\n",
    "\n",
    "print(spatial.distance.cosine(y,z))\n",
    "\n",
    "y1 = df['trip_distance']\n",
    "\n",
    "z1 = df['fare_amount']\n",
    "\n",
    "distance = spatial.distance.euclidean(y1,z1)\n",
    "\n",
    "print(spatial.distance.cosine(y1,z1))\n",
    "y2 = df['tip_amount']\n",
    "\n",
    "z2 = df['fare_amount']\n",
    "print(spatial.distance.cosine(y2,z2))"
   ]
  },
  {
   "cell_type": "code",
   "execution_count": 45,
   "id": "dd36df83",
   "metadata": {},
   "outputs": [
    {
     "name": "stdout",
     "output_type": "stream",
     "text": [
      "0.00032599837000814997\n"
     ]
    }
   ],
   "source": [
    "def jaccard(list1, list2):\n",
    "    j = float(len(list1.intersection(list2))) / len(list1.union(list2))\n",
    "    return j\n",
    "\n",
    "a = set(df['trip_distance'])\n",
    "b = set(df['fare_amount'])\n",
    "result1 = jaccard(a, b)\n",
    "print(result1)"
   ]
  },
  {
   "cell_type": "code",
   "execution_count": null,
   "id": "e882293a",
   "metadata": {},
   "outputs": [],
   "source": []
  },
  {
   "cell_type": "code",
   "execution_count": null,
   "id": "6330d4ef",
   "metadata": {},
   "outputs": [],
   "source": []
  }
 ],
 "metadata": {
  "kernelspec": {
   "display_name": "Python 3 (ipykernel)",
   "language": "python",
   "name": "python3"
  },
  "language_info": {
   "codemirror_mode": {
    "name": "ipython",
    "version": 3
   },
   "file_extension": ".py",
   "mimetype": "text/x-python",
   "name": "python",
   "nbconvert_exporter": "python",
   "pygments_lexer": "ipython3",
   "version": "3.8.10"
  }
 },
 "nbformat": 4,
 "nbformat_minor": 5
}
