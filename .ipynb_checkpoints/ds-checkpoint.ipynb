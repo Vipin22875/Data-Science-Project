{
 "cells": [
  {
   "cell_type": "code",
   "execution_count": null,
   "id": "b3eb9576",
   "metadata": {},
   "outputs": [],
   "source": [
    "import pandas as pd\n",
    "import numpy as np\n",
    "import matplotlib\n",
    "import seaborn as sns\n",
    "import datetime as dt\n",
    "import seaborn as sns\n",
    "import scipy as sc\n",
    "import matplotlib.pyplot as plt\n",
    "import csv\n",
    "%matplotlib inline\n",
    "import itertools\n",
    "from subprocess import check_output\n",
    "print(check_output([\"ls\", \"../Data-Science-Project\"]).decode(\"utf8\"))"
   ]
  },
  {
   "cell_type": "code",
   "execution_count": null,
   "id": "aa1b6d94",
   "metadata": {},
   "outputs": [],
   "source": [
    "# data2 = pd.read_csv(\"data.csv\")\n",
    "# data2.head()\n",
    "df = pd.read_csv('Assgn1-Data-111903125_111903126_111903127.csv')\n",
    "df.columns = ['lpep_pickup_datetime', 'lpep_dropoff_datetime', 'DOLoctionID', 'PULocationID', 'passenger_count', 'trip_distance', 'fare_amount', 'tip_amount']\n",
    "df.head()\n"
   ]
  },
  {
   "cell_type": "code",
   "execution_count": null,
   "id": "70217996",
   "metadata": {},
   "outputs": [],
   "source": [
    "# data2.describe()\n",
    "df.describe()"
   ]
  },
  {
   "cell_type": "code",
   "execution_count": null,
   "id": "33496eab",
   "metadata": {},
   "outputs": [],
   "source": [
    "sns.pairplot(df, hue=None)"
   ]
  },
  {
   "cell_type": "code",
   "execution_count": null,
   "id": "4280b50e",
   "metadata": {},
   "outputs": [],
   "source": [
    "# data2.columns"
   ]
  },
  {
   "cell_type": "code",
   "execution_count": null,
   "id": "1f911c1c",
   "metadata": {},
   "outputs": [],
   "source": [
    "# data2[data2.trip_distance=='0'].sum()"
   ]
  },
  {
   "cell_type": "code",
   "execution_count": null,
   "id": "f8914b2a",
   "metadata": {},
   "outputs": [],
   "source": [
    "# data2.loc[data2['trip_distance']=='0']"
   ]
  },
  {
   "cell_type": "code",
   "execution_count": null,
   "id": "84541ee8",
   "metadata": {},
   "outputs": [],
   "source": [
    "# import csv\n",
    "# with open('data.csv') as csv_file:\n",
    "#     csv_reader = csv.reader(csv_file)\n",
    "#     rows = list(csv_reader)\n",
    "# vipul = rows[9]\n",
    "# print(vipul)"
   ]
  },
  {
   "cell_type": "code",
   "execution_count": null,
   "id": "34655a09",
   "metadata": {},
   "outputs": [],
   "source": [
    "# col_list = [\"trip_distance\"]\n",
    "\n",
    "# df = pd.read_csv(\"data.csv\", usecols=col_list)\n",
    "# print(df)"
   ]
  },
  {
   "cell_type": "code",
   "execution_count": null,
   "id": "b64989e6",
   "metadata": {},
   "outputs": [],
   "source": [
    "# for i in range(64571):\n",
    "#     if 0 == data2.trip_distance[i]:\n",
    "#         index.append(i)"
   ]
  },
  {
   "cell_type": "code",
   "execution_count": null,
   "id": "091562ee",
   "metadata": {},
   "outputs": [],
   "source": [
    "# data2['trip_distance'].where(data2['trip_distance']==0)"
   ]
  },
  {
   "cell_type": "code",
   "execution_count": null,
   "id": "575e3141",
   "metadata": {},
   "outputs": [],
   "source": [
    "# import csv\n",
    "# file = open(\"data.csv\")\n",
    "\n",
    "# reader = csv.reader(file)\n",
    "\n",
    "# lines= len(list(reader))\n",
    "# print(lines)"
   ]
  },
  {
   "cell_type": "code",
   "execution_count": null,
   "id": "a5818f04",
   "metadata": {},
   "outputs": [],
   "source": [
    "PUdatetimedf=df.loc[:,'lpep_pickup_datetime']\n",
    "DOdatetimedf=df.loc[:,'lpep_dropoff_datetime']\n",
    "print(PUdatetimedf,   DOdatetimedf)\n",
    "\n",
    "t1=pd.to_datetime(PUdatetimedf, format=\"%Y/%m/%d %H:%M:%S\")\n",
    "t2=pd.to_datetime(DOdatetimedf, format=\"%Y/%m/%d %H:%M:%S\")\n",
    "df['PUday']=t1.dt.day\n",
    "df['DOday']=t2.dt.day\n",
    "\n",
    "print(df)"
   ]
  },
  {
   "cell_type": "code",
   "execution_count": null,
   "id": "5936771a",
   "metadata": {},
   "outputs": [],
   "source": [
    "#pickup per day\n",
    "df1=df.iloc[:,8]\n",
    "df1.plot.hist(alpha=0.75, bins=26)\n",
    "plt.show()"
   ]
  },
  {
   "cell_type": "code",
   "execution_count": null,
   "id": "8759df93",
   "metadata": {},
   "outputs": [],
   "source": [
    "#drops per day\n",
    "df1=df.iloc[:,9]\n",
    "df1.plot.hist(alpha=0.75, bins=26)\n",
    "plt.show()"
   ]
  },
  {
   "cell_type": "code",
   "execution_count": null,
   "id": "1ff868a1",
   "metadata": {},
   "outputs": [],
   "source": [
    "#hourwise trips\n",
    "df['hour']=t1.dt.hour\n",
    "print(df)\n",
    "df2=df.iloc[:,10]\n",
    "df2.plot.hist(alpha=0.75, bins=23)\n",
    "plt.show()"
   ]
  },
  {
   "cell_type": "code",
   "execution_count": null,
   "id": "5160cc24",
   "metadata": {},
   "outputs": [],
   "source": [
    "df['DayOfWeekNum']=t1.dt.dayofweek\n",
    "df['DayOfWeek']=t1.dt.day_name()\n",
    "print(df)\n",
    "df2=df.iloc[:,11]\n",
    "df2.plot.hist(alpha=0.75, bins=7)\n",
    "plt.show()"
   ]
  },
  {
   "cell_type": "code",
   "execution_count": null,
   "id": "9adedef5",
   "metadata": {},
   "outputs": [],
   "source": [
    "plt.hist(df['DOLoctionID'])"
   ]
  },
  {
   "cell_type": "code",
   "execution_count": null,
   "id": "97fc64a2",
   "metadata": {},
   "outputs": [],
   "source": [
    "plt.hist(df['PULocationID'])"
   ]
  },
  {
   "cell_type": "code",
   "execution_count": null,
   "id": "9a0494b4",
   "metadata": {},
   "outputs": [],
   "source": [
    "plt.hist(df['fare_amount'])"
   ]
  },
  {
   "cell_type": "code",
   "execution_count": null,
   "id": "e1834654",
   "metadata": {},
   "outputs": [],
   "source": [
    "sns.boxplot(x=data2['fare_amount'])"
   ]
  },
  {
   "cell_type": "code",
   "execution_count": null,
   "id": "1a39f71e",
   "metadata": {},
   "outputs": [],
   "source": [
    "sns.boxplot(x=data2['tip_amount'])"
   ]
  },
  {
   "cell_type": "code",
   "execution_count": null,
   "id": "baa9c6ac",
   "metadata": {},
   "outputs": [],
   "source": [
    "sns.boxplot(x=data2['trip_distance'])"
   ]
  },
  {
   "cell_type": "code",
   "execution_count": null,
   "id": "74b7fe16",
   "metadata": {},
   "outputs": [],
   "source": [
    "x = data2['trip_distance']\n",
    "y = data2['fare_amount']"
   ]
  },
  {
   "cell_type": "code",
   "execution_count": null,
   "id": "f7fe5d7c",
   "metadata": {},
   "outputs": [],
   "source": []
  },
  {
   "cell_type": "code",
   "execution_count": null,
   "id": "b6ae6a94",
   "metadata": {},
   "outputs": [],
   "source": [
    "plt.scatter(x,y)\n",
    "plt.xlabel('trip_distance')\n",
    "plt.ylabel('fare_amount')\n",
    "# plt.title('Graph in 2D')\n",
    "# plt.savefig('Test.png')"
   ]
  },
  {
   "cell_type": "code",
   "execution_count": null,
   "id": "a42f9de9",
   "metadata": {},
   "outputs": [],
   "source": [
    "import matplotlib.pyplot as plt\n",
    "import numpy as np\n",
    " \n",
    "x = data2['PULocationID']\n",
    "y = data2['DOLocationID']\n",
    "z = np.random.rand(40)\n",
    "colors = np.random.rand(40) \n",
    "# use the scatter function\n",
    "plt.scatter(x, y,s=z*1000,c=colors)\n",
    "plt.show()"
   ]
  }
 ],
 "metadata": {
  "kernelspec": {
   "display_name": "Python 3 (ipykernel)",
   "language": "python",
   "name": "python3"
  },
  "language_info": {
   "codemirror_mode": {
    "name": "ipython",
    "version": 3
   },
   "file_extension": ".py",
   "mimetype": "text/x-python",
   "name": "python",
   "nbconvert_exporter": "python",
   "pygments_lexer": "ipython3",
   "version": "3.8.10"
  }
 },
 "nbformat": 4,
 "nbformat_minor": 5
}
